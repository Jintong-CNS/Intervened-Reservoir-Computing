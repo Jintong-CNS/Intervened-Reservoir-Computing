{
 "cells": [
  {
   "cell_type": "code",
   "execution_count": null,
   "id": "34cf5e04",
   "metadata": {
    "scrolled": false
   },
   "outputs": [],
   "source": [
    "from statsmodels.tsa.stattools import grangercausalitytests\n",
    "\n",
    "def cal_ArrayGC(X, N_x):\n",
    "    Array_GC = np.zeros((N_x,N_x))\n",
    "    for i in range(N_x):\n",
    "        for j in range(N_x):\n",
    "            if i == j:\n",
    "                continue\n",
    "            targetI = 3*i\n",
    "            targetJ = 3*j+1\n",
    "\n",
    "            x = X[:,[targetI,targetJ]]\n",
    "            r = grangercausalitytests(x, maxlag=[1], verbose=False)\n",
    "            Array_GC[i,j] = -np.log10(r[1][0]['ssr_ftest'][1])\n",
    "\n",
    "    return Array_GC"
   ]
  },
  {
   "cell_type": "code",
   "execution_count": null,
   "id": "2dc38035",
   "metadata": {},
   "outputs": [],
   "source": [
    "from pyinform.transferentropy import transfer_entropy\n",
    "import pyinform.utils as utils\n",
    "\n",
    "def cal_ArrayTE(X, N_x):\n",
    "    Array_TE = np.zeros((N_x,N_x))\n",
    "\n",
    "    for i in range(N_x):\n",
    "        for j in range(N_x):\n",
    "            if i == j:\n",
    "                continue\n",
    "            targetI = 3*i\n",
    "            targetJ = 3*j+1\n",
    "\n",
    "            x1,_ = utils.coalesce_series(utils.bin_series(X[:,targetI], b=4)[0])\n",
    "            x2,_ = utils.coalesce_series(utils.bin_series(X[:,targetJ], b=4)[0])\n",
    "\n",
    "            r = transfer_entropy(x2, x1, k=5)\n",
    "            Array_TE[i,j] = r\n",
    "        \n",
    "    return Array_TE"
   ]
  },
  {
   "cell_type": "code",
   "execution_count": null,
   "id": "b0cc9fa2",
   "metadata": {},
   "outputs": [],
   "source": [
    "import skccm as ccm\n",
    "from skccm.utilities import train_test_split\n",
    "\n",
    "def cal_ArrayCCM(X, N_x):\n",
    "    Array_CCM = np.zeros((N_x,N_x))\n",
    "\n",
    "    lag = 1\n",
    "    embed = 2\n",
    "\n",
    "    for i in range(N_x):\n",
    "        for j in range(N_x):\n",
    "            if i == j:\n",
    "                continue\n",
    "            targetI = 3*i\n",
    "            targetJ = 3*j+1\n",
    "\n",
    "            xi = X[:,targetI]\n",
    "            xj = X[:,targetJ]\n",
    "\n",
    "            ei = ccm.Embed(xi)\n",
    "            ej = ccm.Embed(xj)\n",
    "            Xi = ei.embed_vectors_1d(lag,embed)\n",
    "            Xj = ej.embed_vectors_1d(lag,embed)\n",
    "\n",
    "            #split the embedded time series\n",
    "            xitr, xite, xjtr, xjte = train_test_split(Xi,Xj, percent=.75)\n",
    "\n",
    "            CCM = ccm.CCM() #initiate the class\n",
    "\n",
    "            #library lengths to test\n",
    "            len_tr = len(xitr)\n",
    "            lib_lens = np.arange(10, len_tr, len_tr/50, dtype='int')\n",
    "\n",
    "            #test causation\n",
    "            CCM.fit(xitr,xjtr)\n",
    "            xip, xjp = CCM.predict(xite, xjte,lib_lengths=lib_lens)\n",
    "\n",
    "            _,scji = CCM.score()\n",
    "\n",
    "            Array_CCM[i,j] = scji[-1]\n",
    "    return Array_CCM"
   ]
  }
 ],
 "metadata": {
  "kernelspec": {
   "display_name": "Python 3 (ipykernel)",
   "language": "python",
   "name": "python3"
  },
  "language_info": {
   "codemirror_mode": {
    "name": "ipython",
    "version": 3
   },
   "file_extension": ".py",
   "mimetype": "text/x-python",
   "name": "python",
   "nbconvert_exporter": "python",
   "pygments_lexer": "ipython3",
   "version": "3.7.13"
  }
 },
 "nbformat": 4,
 "nbformat_minor": 5
}
