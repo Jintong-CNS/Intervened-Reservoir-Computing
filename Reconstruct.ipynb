{
 "cells": [
  {
   "cell_type": "code",
   "execution_count": null,
   "id": "1376df15",
   "metadata": {},
   "outputs": [],
   "source": [
    "def cal_TDI(esn, X_test, n_nodes, n_nodes_dim, target_i, target_j, n_rep, n_washout, n_evo, j_threshold = 0.1):\n",
    "    Error = np.zeros((n_rep, n_nodes, n_nodes))\n",
    "    for rep in range(n_rep):\n",
    "        offset = np.random.randint(X_test.shape[0] - n_evo - n_washout)\n",
    "        X_test_washout = X_test[- n_washout + offset : offset]\n",
    "        Y = X_test[offset : offset + n_evo]\n",
    "        \n",
    "        r0 = esn.open_loop(X_test_washout, np.zeros(esn.n_units))[-1]\n",
    "        Yh = esn.evolve(r0, N_evo)\n",
    "        \n",
    "        E = np.zeros((n_nodes, n_nodes))\n",
    "        for i in range(n_nodes):\n",
    "            for j in range(n_nodes):\n",
    "                if i == j:\n",
    "                    continue\n",
    "                targetI = n_nodes_dim*i + target_i\n",
    "                targetJ = n_nodes_dim*j + target_j\n",
    "\n",
    "                jmean = np.mean(Yh[:,targetJ], axis=0)\n",
    "                if np.abs(jmean) < j_threshold:\n",
    "                    E[i,j] = -1\n",
    "                    continue\n",
    "\n",
    "                Yhji = esn.evolve_edge_removal(r0, targetJ, targetI, N_evo)\n",
    "\n",
    "                d = (Yh - Yhji)[:,targetI]\n",
    "                E[i,j] = np.sum(d ** 2) / N_evo / jmean\n",
    "\n",
    "        Error[rep] = E\n",
    "\n",
    "    TDI = np.zeros((n_nodes, n_nodes))\n",
    "    for i in range(n_nodes):\n",
    "        for j in range(n_nodes):\n",
    "            if i == j:\n",
    "                continue\n",
    "            t = Error[:,i,j]\n",
    "            e = t[t > 0]\n",
    "            if e.shape[0] == 0:\n",
    "                print(f'warning: too large threshold, i:{i},j:{j} no error data')\n",
    "                TDI[i,j] = 0\n",
    "            else:\n",
    "                TDI[i,j] = np.mean(e)\n",
    "                \n",
    "    return TDI"
   ]
  }
 ],
 "metadata": {
  "kernelspec": {
   "display_name": "Python 3 (ipykernel)",
   "language": "python",
   "name": "python3"
  },
  "language_info": {
   "codemirror_mode": {
    "name": "ipython",
    "version": 3
   },
   "file_extension": ".py",
   "mimetype": "text/x-python",
   "name": "python",
   "nbconvert_exporter": "python",
   "pygments_lexer": "ipython3",
   "version": "3.7.13"
  }
 },
 "nbformat": 4,
 "nbformat_minor": 5
}
