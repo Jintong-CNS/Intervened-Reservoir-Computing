{
 "cells": [
  {
   "cell_type": "code",
   "execution_count": 1,
   "id": "6b93a346",
   "metadata": {},
   "outputs": [],
   "source": [
    "import numpy as np\n",
    "import matplotlib.pyplot as plt\n",
    "from scipy.interpolate import interp1d"
   ]
  },
  {
   "cell_type": "code",
   "execution_count": 2,
   "id": "b1a81048",
   "metadata": {},
   "outputs": [],
   "source": [
    "def discrete_logistic_map(X0, sets):\n",
    "    n_x, n_data, gamma_list, c, A, sigma = sets\n",
    "    X = np.zeros((n_data, n_x))\n",
    "    X[0] = X0\n",
    "    for t in range(0,n_data-1):\n",
    "        noise = np.random.normal(loc=0, scale=sigma, size=n_x)\n",
    "        for k in range(n_x):\n",
    "            X[t+1,k] = X[t,k]*(gamma_list[k] - gamma_list[k]*X[t,k] - c*A[k]@(X[t]-X[t,k]))+noise[k]\n",
    "    return X   "
   ]
  },
  {
   "cell_type": "code",
   "execution_count": 4,
   "id": "1f2a3830",
   "metadata": {},
   "outputs": [],
   "source": [
    "def gen_data(n_x, A, n_data, gamma_list, c, sigma_dyn = 0.005, sigma_obs = 0, x0 = None):\n",
    "    setting = (n_x, n_data, gamma_list, c, A, sigma_dyn)\n",
    "    if x0 is None:\n",
    "        x0 = np.random.random(n_x)\n",
    "\n",
    "    X = discrete_logistic_map(x0, setting)\n",
    "    \n",
    "    if sigma_obs != 0:\n",
    "        noise_obs = np.random.normal(loc=0, scale=sigma_obs, size=X.shape)\n",
    "        X += noise_obs\n",
    "    \n",
    "    return X"
   ]
  }
 ],
 "metadata": {
  "kernelspec": {
   "display_name": "Python 3 (ipykernel)",
   "language": "python",
   "name": "python3"
  },
  "language_info": {
   "codemirror_mode": {
    "name": "ipython",
    "version": 3
   },
   "file_extension": ".py",
   "mimetype": "text/x-python",
   "name": "python",
   "nbconvert_exporter": "python",
   "pygments_lexer": "ipython3",
   "version": "3.7.13"
  }
 },
 "nbformat": 4,
 "nbformat_minor": 5
}
