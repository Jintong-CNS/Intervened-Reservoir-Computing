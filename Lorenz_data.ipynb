{
 "cells": [
  {
   "cell_type": "code",
   "execution_count": 2,
   "id": "6b93a346",
   "metadata": {},
   "outputs": [],
   "source": [
    "import numpy as np\n",
    "import matplotlib.pyplot as plt"
   ]
  },
  {
   "cell_type": "code",
   "execution_count": 3,
   "id": "b1a81048",
   "metadata": {},
   "outputs": [],
   "source": [
    "def RK4(func, X0, sets):\n",
    "    \"\"\"\n",
    "    Runge Kutta 4 solver.\n",
    "    \"\"\"\n",
    "    n_x, dt, n_data, h, c, A, sigma = sets\n",
    "    func_sets = (n_x, h, c, A, sigma)\n",
    "    X  = np.zeros([n_data, len(X0)])\n",
    "    X[0] = X0\n",
    "    ti = 0\n",
    "    for i in range(n_data-1):\n",
    "        k1 = func(X[i], ti, func_sets)\n",
    "        k2 = func(X[i] + dt/2. * k1, ti + dt/2., func_sets)\n",
    "        k3 = func(X[i] + dt/2. * k2, ti + dt/2., func_sets)\n",
    "        k4 = func(X[i] + dt    * k3, ti + dt, func_sets)\n",
    "        X[i+1] = X[i] + dt / 6. * (k1 + 2. * k2 + 2. * k3 + k4)\n",
    "        ti += dt\n",
    "    return X\n",
    "\n",
    "def coupled_Lorenz(x, t, sets):\n",
    "#     Lorenz system is time-invariant, no need to use the input t\n",
    "    n_x, h, c, A, sigma = sets\n",
    "    r = np.zeros(x.shape)\n",
    "    noise = np.random.normal(loc=0, scale=sigma, size=3*n_x)\n",
    "    for k in range(n_x):\n",
    "        r[k*3+0]= -10*(x[k*3+0]-x[k*3+1] +c*A[k]@(x[1::3]-x[k*3+1])) + noise[0+k*3]\n",
    "        r[k*3+1]= 28*(1+h[k])*x[k*3+0]-x[k*3+1] - x[k*3+0]*x[k*3+2] + noise[1+k*3]\n",
    "        r[k*3+2]= -8/3*x[k*3+2]+x[k*3+0]*x[k*3+1] + noise[2+k*3]\n",
    "    return r\n"
   ]
  },
  {
   "cell_type": "code",
   "execution_count": 4,
   "id": "1f2a3830",
   "metadata": {},
   "outputs": [],
   "source": [
    "def gen_data_norm(n_x, A, n_data, c = 0.3, sigma_dyn = 0, sigma_obs = 0, dt = 0.01):\n",
    "    h  = 2*(np.random.rand(n_x)-0.5)*0.06\n",
    "    \n",
    "    setting = (n_x, dt, n_data, h, c, A, sigma_dyn)\n",
    "    u0 = np.array([7.432487609628195, 10.02071718705213, 29.62297428638419])\n",
    "    x0 = u0 + np.random.random((n_x,3))*0.3\n",
    "\n",
    "#     X = gen_data(setting, x0)\n",
    "    X = RK4(coupled_Lorenz, x0.flatten(), setting)\n",
    "    \n",
    "    q1 = np.percentile(X, 25, interpolation='midpoint', axis=0)\n",
    "    q2 = np.percentile(X, 50, interpolation='midpoint', axis=0)\n",
    "    q3 = np.percentile(X, 75, interpolation='midpoint', axis=0)\n",
    "\n",
    "    X = (X - q2)/(q3 - q1)\n",
    "    \n",
    "    if sigma_obs != 0:\n",
    "        noise_obs = np.random.normal(loc=0, scale=sigma_obs, size=X.shape)\n",
    "        X += noise_obs\n",
    "    \n",
    "    return X"
   ]
  }
 ],
 "metadata": {
  "kernelspec": {
   "display_name": "Python 3 (ipykernel)",
   "language": "python",
   "name": "python3"
  },
  "language_info": {
   "codemirror_mode": {
    "name": "ipython",
    "version": 3
   },
   "file_extension": ".py",
   "mimetype": "text/x-python",
   "name": "python",
   "nbconvert_exporter": "python",
   "pygments_lexer": "ipython3",
   "version": "3.7.13"
  }
 },
 "nbformat": 4,
 "nbformat_minor": 5
}
